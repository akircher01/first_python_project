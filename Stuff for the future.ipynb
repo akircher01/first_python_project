{
 "cells": [
  {
   "cell_type": "markdown",
   "metadata": {},
   "source": [
    "# Which jobs grew in pay after adjusting for inflation from 2003 to 2018 in Louisville Ky?\n",
    "\n",
    "To figure this out I will look at data collected from The Occupational Information Network (https://www.onetonline.org/).  I will look at data collected in 5 year increments from 2003 to 2018 and the data looked at will only be Louisville Kentucky data. \n",
    "\n",
    "**Why not look at the highest paying jobs?**\n",
    "\n",
    "Looking at the highest paying job does suggest that a particular job is valued at the specific time that that job is viewed.  However, jobs that see a continuous increase in income suggest that the supply is not meeting the demand, and leads to an increase in pay.  Therefore, we should see growth in the pay for jobs in high demand. \n"
   ]
  },
  {
   "cell_type": "code",
   "execution_count": 1,
   "metadata": {},
   "outputs": [],
   "source": [
    "import sqlite3\n",
    "import os\n",
    "import pandas as pd\n",
    "import matplotlib.pyplot as plt\n",
    "%matplotlib inline"
   ]
  },
  {
   "cell_type": "markdown",
   "metadata": {},
   "source": [
    "**I cleaned the data in the other file and this contains only the clean dataset.**"
   ]
  },
  {
   "cell_type": "code",
   "execution_count": 2,
   "metadata": {},
   "outputs": [],
   "source": [
    "occupation_file_name = os.path.join('new_occupation.csv')"
   ]
  },
  {
   "cell_type": "code",
   "execution_count": 3,
   "metadata": {},
   "outputs": [],
   "source": [
    "occupation = pd.read_csv(occupation_file_name, index_col=0)"
   ]
  },
  {
   "cell_type": "code",
   "execution_count": 4,
   "metadata": {},
   "outputs": [],
   "source": [
    "occupation[\"OCC_TITLE\"] = occupation[\"OCC_TITLE\"].str.lower()\n",
    "pop=occupation.pop('Unnamed: 19')"
   ]
  },
  {
   "cell_type": "markdown",
   "metadata": {},
   "source": [
    "## Converting to 2018 dollars\n",
    "In economics the term real dollars is the value of currency after being adjusted for inflation.  I will turn everything into 2018 dollars and to compute the difference I used an inflation calculator, which can be found in the following website \n",
    "https://www.usinflationcalculator.com/\n",
    "\n",
    "Adjusted for inflation, 1.00 in 2003 is equal to 1.36 in 2018, with a 36.5% cumulative rate of inflation.\n",
    "\n",
    "Adjusted for inflation, 1.00 in 2008 is equal to 1.17 in 2018, with a 16.6% cumulative rate of inflation.\n",
    "\n",
    "Adjusted for inflation, 1.00 in 2013 is equal to 1.08 in 2018, with a 7.8% cumulative rate of inflation. "
   ]
  },
  {
   "cell_type": "code",
   "execution_count": 5,
   "metadata": {
    "scrolled": true
   },
   "outputs": [],
   "source": [
    "#This formula converts each year to 2018 dollars, which contorls for inflation. \n",
    "occupation.columns[5:18]\n",
    "\n",
    "for x in occupation.columns[5:18]:\n",
    "    occupation.loc[(occupation.YEAR == 2013), x] *=1.08\n",
    "    occupation.loc[(occupation.YEAR == 2008), x] *=1.17\n",
    "    occupation.loc[(occupation.YEAR == 2003), x] *=1.36\n"
   ]
  },
  {
   "cell_type": "markdown",
   "metadata": {},
   "source": [
    "## Checking to see how many occupations existed across all four sample years\n",
    "\n",
    "As you can see there are 389 jobs that where in all four instances, 128 in three, 139 in two, and 80 in 1.  In the future, I can use this to look at jobs that became obsolete or jobs that are newly created. For this project I will only look at the four year data. "
   ]
  },
  {
   "cell_type": "code",
   "execution_count": 6,
   "metadata": {
    "scrolled": true
   },
   "outputs": [
    {
     "data": {
      "text/plain": [
       "4    389\n",
       "2    139\n",
       "3    128\n",
       "1     80\n",
       "dtype: int64"
      ]
     },
     "execution_count": 6,
     "metadata": {},
     "output_type": "execute_result"
    }
   ],
   "source": [
    "#This counts the number of instances of a specific job code.  \n",
    "occ_count=occupation.groupby('OCC_CODE')\n",
    "occ_count_all = occ_count.size()\n",
    "occ_count_all.value_counts()"
   ]
  },
  {
   "cell_type": "code",
   "execution_count": 12,
   "metadata": {
    "scrolled": false
   },
   "outputs": [],
   "source": [
    "#I made a bunch of dictionaries that contain the job code as the key and the number of years as its items.  \n",
    "#I know that dictionaries can be converted to pandas easily.  I may also use this dictionary in for loops. \n",
    "total_instance=occupation.groupby(['OCC_CODE'])\n",
    "total_instance=total_instance.size()\n",
    "dict4={}\n",
    "dict3={}\n",
    "dict2={}\n",
    "dict1={}\n",
    "for y, x in total_instance.items():\n",
    "    if x == 4:\n",
    "        dict4.update({y:x})\n",
    "    elif x == 3:\n",
    "        dict3.update({y:x})\n",
    "    elif x == 2:\n",
    "        dict2.update({y:x})\n",
    "    else:\n",
    "        dict1.update({y:x})   \n"
   ]
  },
  {
   "cell_type": "code",
   "execution_count": 13,
   "metadata": {},
   "outputs": [],
   "source": [
    "#Sort values for percent change\n",
    "occupation.sort_values(['YEAR', 'OCC_CODE'], ascending=[1, 1], inplace=True)\n",
    "\n",
    "#Create Percent Change for the hourly mean (H_MEAN) and average means (A_MEAN) items\n",
    "occupation['H_CHANGE'] = occupation.groupby('OCC_CODE').H_MEAN.pct_change()\n",
    "occupation['A_CHANGE'] = occupation.groupby('OCC_CODE').A_MEAN.pct_change()"
   ]
  },
  {
   "cell_type": "code",
   "execution_count": 14,
   "metadata": {
    "scrolled": false
   },
   "outputs": [
    {
     "ename": "NameError",
     "evalue": "name 'dictgap' is not defined",
     "output_type": "error",
     "traceback": [
      "\u001b[1;31m---------------------------------------------------------------------------\u001b[0m",
      "\u001b[1;31mNameError\u001b[0m                                 Traceback (most recent call last)",
      "\u001b[1;32m<ipython-input-14-ff160fe21b35>\u001b[0m in \u001b[0;36m<module>\u001b[1;34m\u001b[0m\n\u001b[0;32m     14\u001b[0m     \u001b[0moccupation\u001b[0m\u001b[1;33m.\u001b[0m\u001b[0miloc\u001b[0m\u001b[1;33m[\u001b[0m\u001b[0mlocnumber\u001b[0m\u001b[1;33m:\u001b[0m\u001b[1;33m,\u001b[0m\u001b[0my2_loc\u001b[0m\u001b[1;33m]\u001b[0m \u001b[1;33m=\u001b[0m \u001b[1;33m(\u001b[0m\u001b[0mrow\u001b[0m\u001b[1;33m[\u001b[0m\u001b[1;34m'OCC_CODE'\u001b[0m\u001b[1;33m]\u001b[0m \u001b[1;32min\u001b[0m \u001b[0mdict2\u001b[0m\u001b[1;33m)\u001b[0m\u001b[1;33m\u001b[0m\u001b[1;33m\u001b[0m\u001b[0m\n\u001b[0;32m     15\u001b[0m     \u001b[0moccupation\u001b[0m\u001b[1;33m.\u001b[0m\u001b[0miloc\u001b[0m\u001b[1;33m[\u001b[0m\u001b[0mlocnumber\u001b[0m\u001b[1;33m:\u001b[0m\u001b[1;33m,\u001b[0m\u001b[0my1_loc\u001b[0m\u001b[1;33m]\u001b[0m \u001b[1;33m=\u001b[0m \u001b[1;33m(\u001b[0m\u001b[0mrow\u001b[0m\u001b[1;33m[\u001b[0m\u001b[1;34m'OCC_CODE'\u001b[0m\u001b[1;33m]\u001b[0m \u001b[1;32min\u001b[0m \u001b[0mdict1\u001b[0m\u001b[1;33m)\u001b[0m\u001b[1;33m\u001b[0m\u001b[1;33m\u001b[0m\u001b[0m\n\u001b[1;32m---> 16\u001b[1;33m     \u001b[0moccupation\u001b[0m\u001b[1;33m.\u001b[0m\u001b[0miloc\u001b[0m\u001b[1;33m[\u001b[0m\u001b[0mlocnumber\u001b[0m\u001b[1;33m:\u001b[0m\u001b[1;33m,\u001b[0m\u001b[0mygap_loc\u001b[0m\u001b[1;33m]\u001b[0m \u001b[1;33m=\u001b[0m \u001b[1;33m(\u001b[0m\u001b[0mrow\u001b[0m\u001b[1;33m[\u001b[0m\u001b[1;34m'OCC_CODE'\u001b[0m\u001b[1;33m]\u001b[0m \u001b[1;32min\u001b[0m \u001b[0mdictgap\u001b[0m\u001b[1;33m)\u001b[0m\u001b[1;33m\u001b[0m\u001b[1;33m\u001b[0m\u001b[0m\n\u001b[0m\u001b[0;32m     17\u001b[0m     \u001b[0mlocnumber\u001b[0m \u001b[1;33m+=\u001b[0m\u001b[1;36m1\u001b[0m\u001b[1;33m\u001b[0m\u001b[1;33m\u001b[0m\u001b[0m\n\u001b[0;32m     18\u001b[0m \u001b[1;33m\u001b[0m\u001b[0m\n",
      "\u001b[1;31mNameError\u001b[0m: name 'dictgap' is not defined"
     ]
    }
   ],
   "source": [
    "#I am using this to create new rows and then I am collecting the location for further manipulation\n",
    "occupation = occupation.assign(**{'FOUR_YEAR':\"False\",'THREE_YEAR': \"False\",'TWO_YEAR': \"False\",'ONE_YEAR':\"False\",'GAP_YEAR':\"False\"})\n",
    "y4_loc=occupation.columns.get_loc('FOUR_YEAR')\n",
    "y3_loc=occupation.columns.get_loc('THREE_YEAR')\n",
    "y2_loc=occupation.columns.get_loc('TWO_YEAR')\n",
    "y1_loc=occupation.columns.get_loc('ONE_YEAR')\n",
    "ygap_loc=occupation.columns.get_loc('GAP_YEAR')\n",
    "\n",
    "# I am using this to populate the newly created rows. \n",
    "locnumber=0\n",
    "for index, row in occupation.iterrows():\n",
    "    occupation.iloc[locnumber:,y4_loc] = (row['OCC_CODE'] in dict4)\n",
    "    occupation.iloc[locnumber:,y3_loc] = (row['OCC_CODE'] in dict3)\n",
    "    occupation.iloc[locnumber:,y2_loc] = (row['OCC_CODE'] in dict2)\n",
    "    occupation.iloc[locnumber:,y1_loc] = (row['OCC_CODE'] in dict1)\n",
    "    occupation.iloc[locnumber:,ygap_loc] = (row['OCC_CODE'] in dictgap)\n",
    "    locnumber +=1\n",
    "\n",
    "#Here is data that is just Occupation data that has each based on the different ways I sepereated them.  \n",
    "occupation_4 = occupation[occupation['FOUR_YEAR'] == True]\n",
    "occupation_3 = occupation[(occupation['THREE_YEAR'] == True) & (occupation['GAP_YEAR'] == False)]\n",
    "occupation_2 = occupation[(occupation['TWO_YEAR'] == True) & (occupation['GAP_YEAR'] == False)]\n",
    "occupation_1 = occupation[(occupation['ONE_YEAR'] == True) & (occupation['GAP_YEAR'] == False)]\n",
    "occupation_gap = occupation[(occupation['GAP_YEAR'] == True) & (occupation['GAP_YEAR'] == False)]\n",
    "\n",
    "occupation[\"OCC_TITLE\"] = occupation[\"OCC_TITLE\"].str.lower()\n",
    "\n",
    "#occupation.loc[occupation.OCC_TITLE.isupper(), 'OCC_TITLE\"] = occupation.OCC_TITLE.str.lower() \n",
    "#This can help if I need to search for terms\n",
    "occupation=occupation[occupation[\"OCC_TITLE\"].str.contains(\"econ\")]"
   ]
  },
  {
   "cell_type": "markdown",
   "metadata": {},
   "source": [
    "### SQL STUFF"
   ]
  },
  {
   "cell_type": "code",
   "execution_count": null,
   "metadata": {},
   "outputs": [],
   "source": [
    "occupation_4=occupation_4.sort_values(by='YEAR', ascending=False)\n",
    "occupation_4.to_sql(\"occ_table\",sqlite3.connect('occ.db'), if_exists =\"replace\")"
   ]
  },
  {
   "cell_type": "code",
   "execution_count": null,
   "metadata": {},
   "outputs": [],
   "source": [
    "con = sqlite3.connect(\"occ.db\")"
   ]
  },
  {
   "cell_type": "code",
   "execution_count": null,
   "metadata": {
    "scrolled": true
   },
   "outputs": [],
   "source": [
    "#This is sorting the data by the average hourly percent change. Where those with the highest percent change fairing better.   \n",
    "highest_h_ave= pd.read_sql_query(\"SELECT OCC_CODE,OCC_TITLE, H_MEAN, AVG(H_CHANGE) as H_Change_Average, YEAR FROM occ_table GROUP BY OCC_CODE ORDER BY H_Change_Average DESC LIMIT 10\", con)\n",
    "highest_h_ave"
   ]
  },
  {
   "cell_type": "code",
   "execution_count": null,
   "metadata": {},
   "outputs": [],
   "source": [
    "highest_h_mean= pd.read_sql_query(\"SELECT OCC_CODE,OCC_TITLE,H_MEAN,YEAR FROM occ_table WHERE OCC_CODE IN ('27-2012','11-9061','49-9098','19-4091','11-2011','11-3061','29-1066','39-9032','13-2082','27-4032')\", con)\n",
    "highest_h_mean.set_index('YEAR', inplace=True)\n",
    "highest_h_mean.groupby('OCC_CODE')['H_MEAN'].plot(legend=True)"
   ]
  },
  {
   "cell_type": "code",
   "execution_count": null,
   "metadata": {},
   "outputs": [],
   "source": [
    "highest_h_mean"
   ]
  },
  {
   "cell_type": "code",
   "execution_count": null,
   "metadata": {
    "scrolled": true
   },
   "outputs": [],
   "source": [
    "#offset it to avoid na data\n",
    "lowest_h_ave=pd.read_sql_query(\"SELECT OCC_CODE,OCC_TITLE,AVG(H_CHANGE) as H_average FROM occ_table GROUP BY OCC_CODE ORDER BY H_average ASC LIMIT 10 OFFSET 12\", con)\n",
    "lowest_h_ave"
   ]
  },
  {
   "cell_type": "code",
   "execution_count": null,
   "metadata": {},
   "outputs": [],
   "source": [
    "lowest_h_mean= pd.read_sql_query(\"SELECT OCC_CODE,OCC_TITLE,H_MEAN,YEAR FROM occ_table WHERE OCC_CODE IN ('29-1011','13-1121','13-2021','51-3091','17-3025','51-4023','53-7021','49-3022','25-1194','51-4122')\", con)\n",
    "lowest_h_mean.set_index('YEAR', inplace=True)\n",
    "lowest_h_mean.groupby('OCC_CODE')['H_MEAN'].plot(legend=True)"
   ]
  },
  {
   "cell_type": "code",
   "execution_count": null,
   "metadata": {
    "scrolled": true
   },
   "outputs": [],
   "source": [
    "#This is sorting the data by the average annual percent change. Where those with the highest percent change fairing better.   \n",
    "highest_a_ave=pd.read_sql_query(\"SELECT OCC_CODE,OCC_TITLE, AVG(A_CHANGE) as A_average FROM occ_table GROUP BY OCC_CODE ORDER BY A_average DESC LIMIT 10\", con)\n",
    "highest_a_ave"
   ]
  },
  {
   "cell_type": "code",
   "execution_count": null,
   "metadata": {},
   "outputs": [],
   "source": [
    "highest_a_mean= pd.read_sql_query(\"SELECT OCC_CODE,OCC_TITLE,A_MEAN,YEAR FROM occ_table WHERE OCC_CODE IN ('11-9061','25-1121','49-9098','53-2012','19-4091','11-2011','11-3061','29-1066','39-9032','13-2082')\", con)\n",
    "highest_a_mean.set_index('YEAR', inplace=True)\n",
    "highest_a_mean.groupby('OCC_CODE')['A_MEAN'].plot(legend=True)"
   ]
  },
  {
   "cell_type": "code",
   "execution_count": null,
   "metadata": {
    "scrolled": false
   },
   "outputs": [],
   "source": [
    "#This is sorting the data by the average annual percent change. Where those with the lowest percent change fairing better.   \n",
    "lowest_a_ave=pd.read_sql_query(\"SELECT OCC_CODE,OCC_TITLE, AVG(A_CHANGE) as A_average FROM occ_table GROUP BY OCC_CODE ORDER BY A_average ASC LIMIT 10\", con)\n",
    "lowest_a_ave"
   ]
  },
  {
   "cell_type": "code",
   "execution_count": null,
   "metadata": {},
   "outputs": [],
   "source": [
    "lowest_a_mean= pd.read_sql_query(\"SELECT OCC_CODE,OCC_TITLE,A_MEAN,YEAR FROM occ_table WHERE OCC_CODE IN ('29-1011','13-1121','13-2021','29-9091','51-3091','17-3025','51-4023','53-7021','49-3022','25-1194')\", con)\n",
    "lowest_a_mean.set_index('YEAR', inplace=True)\n",
    "lowest_a_mean.groupby('OCC_CODE')['A_MEAN'].plot(legend=True)"
   ]
  }
 ],
 "metadata": {
  "kernelspec": {
   "display_name": "Python 3",
   "language": "python",
   "name": "python3"
  },
  "language_info": {
   "codemirror_mode": {
    "name": "ipython",
    "version": 3
   },
   "file_extension": ".py",
   "mimetype": "text/x-python",
   "name": "python",
   "nbconvert_exporter": "python",
   "pygments_lexer": "ipython3",
   "version": "3.7.3"
  },
  "widgets": {
   "application/vnd.jupyter.widget-state+json": {
    "state": {},
    "version_major": 2,
    "version_minor": 0
   }
  }
 },
 "nbformat": 4,
 "nbformat_minor": 2
}
